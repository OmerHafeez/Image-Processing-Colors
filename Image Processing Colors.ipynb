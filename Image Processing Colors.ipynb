{
 "cells": [
  {
   "cell_type": "code",
   "execution_count": null,
   "id": "e8c14791",
   "metadata": {},
   "outputs": [],
   "source": [
    "from PIL import Image\n",
    "import numpy as np\n",
    "from IPython.display import display"
   ]
  },
  {
   "cell_type": "code",
   "execution_count": null,
   "id": "9be68e8f",
   "metadata": {},
   "outputs": [],
   "source": [
    "# img = Image.open('PATH')\n",
    "img = Image.open('img.jpg')\n",
    "display(img)"
   ]
  },
  {
   "cell_type": "code",
   "execution_count": null,
   "id": "b10a20df",
   "metadata": {},
   "outputs": [],
   "source": [
    "img_array = np.array(img)\n",
    "img_array.shape"
   ]
  },
  {
   "cell_type": "code",
   "execution_count": null,
   "id": "cb68bf75",
   "metadata": {},
   "outputs": [],
   "source": [
    "\"\"\" The RGB Values of the first Pixel \"\"\"\n",
    "img_array[0][0]"
   ]
  },
  {
   "cell_type": "code",
   "execution_count": null,
   "id": "3efdf7e0",
   "metadata": {},
   "outputs": [],
   "source": [
    "\"\"\" You can use the height and width variables in your code to get the rows and columns of pixels in the image \"\"\"\n",
    "height = img_array.shape[0]\n",
    "width = img_array.shape[1]\n",
    "height,width"
   ]
  },
  {
   "cell_type": "code",
   "execution_count": null,
   "id": "e3a602ab",
   "metadata": {},
   "outputs": [],
   "source": [
    "# YOUR CODE HERE\n",
    "\n",
    "# Define colors for light and dark squares\n",
    "light_color = (255, 255, 0)\n",
    "dark_color = (0, 225, 0)        \n",
    "\n",
    "# Specify the dimensions of the chessboard (12x12)\n",
    "square_size = height // 12\n",
    "\n",
    "# Iterate through the rows and columns to change square colors\n",
    "for i in range(12):\n",
    "    for j in range(12):\n",
    "        if (i + j) % 2 == 0:\n",
    "            color = light_color\n",
    "        else:\n",
    "            color = dark_color\n",
    "#https://chat.openai.com/chat\n",
    "        # Define the coordinates of the square\n",
    "        top_left = (j * square_size, i * square_size)\n",
    "        bottom_right = ((j + 1) * square_size, (i + 1) * square_size)\n",
    "\n",
    "        # Change the color of the square\n",
    "        img_array[top_left[1]:bottom_right[1], top_left[0]:bottom_right[0]] = color\n",
    "\n",
    "# Convert the modified NumPy array back to an image\n",
    "modified_img = Image.fromarray(img_array)\n",
    "\n",
    "# Display the modified image (optional)\n",
    "display(modified_img)\n",
    "\n",
    "# Save the modified image\n",
    "modified_img.save('modified_img.jpg')"
   ]
  },
  {
   "cell_type": "code",
   "execution_count": null,
   "id": "f8a1f0e3",
   "metadata": {},
   "outputs": [],
   "source": []
  }
 ],
 "metadata": {
  "kernelspec": {
   "display_name": "Python 3 (ipykernel)",
   "language": "python",
   "name": "python3"
  },
  "language_info": {
   "codemirror_mode": {
    "name": "ipython",
    "version": 3
   },
   "file_extension": ".py",
   "mimetype": "text/x-python",
   "name": "python",
   "nbconvert_exporter": "python",
   "pygments_lexer": "ipython3",
   "version": "3.11.5"
  }
 },
 "nbformat": 4,
 "nbformat_minor": 5
}
